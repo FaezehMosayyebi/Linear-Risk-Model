{
  "nbformat": 4,
  "nbformat_minor": 0,
  "metadata": {
    "colab": {
      "provenance": []
    },
    "kernelspec": {
      "name": "python3",
      "display_name": "Python 3"
    },
    "language_info": {
      "name": "python"
    }
  },
  "cells": [
    {
      "cell_type": "code",
      "execution_count": 4,
      "metadata": {
        "id": "zO8sihOH3MjI"
      },
      "outputs": [],
      "source": [
        "\"\"\"\n",
        "Aime:Building a risk score model for retinopathy \n",
        "in diabetes patients using logistic regression\n",
        "\"\"\"\n",
        "\n",
        "#Imports\n",
        "\n",
        "import numpy as np\n",
        "import pandas as pd\n",
        "import matplotlib.pyplot as plt"
      ]
    },
    {
      "cell_type": "code",
      "source": [
        "#Load Data\n",
        "\n",
        "X = pd.read_csv('/content/X_data.csv', index_col=0)\n",
        "y = pd.read_csv('/content/y_data.csv', index_col=0)"
      ],
      "metadata": {
        "id": "KZNpNjhQT0c6"
      },
      "execution_count": 5,
      "outputs": []
    },
    {
      "cell_type": "code",
      "source": [
        "X.head()"
      ],
      "metadata": {
        "id": "CJNIUfxAUtkd"
      },
      "execution_count": null,
      "outputs": []
    },
    {
      "cell_type": "code",
      "source": [
        "y.head()"
      ],
      "metadata": {
        "id": "aPExsqvJUzM9"
      },
      "execution_count": null,
      "outputs": []
    },
    {
      "cell_type": "code",
      "source": [
        "#Spliting tha data into train and test sets using 75/25 split\n",
        "\n",
        "from sklearn.model_selection import train_test_split\n",
        "X_train_raw, X_test_raw, y_train, y_test = train_test_split(X, y, train_size=0.75, random_state=0)"
      ],
      "metadata": {
        "id": "6yOci_rUVPEQ"
      },
      "execution_count": 6,
      "outputs": []
    },
    {
      "cell_type": "code",
      "source": [
        "for col in X.columns:\n",
        "  X_train_raw.loc[:, col].hist()\n",
        "  plt.title(col)\n",
        "  plt.show()"
      ],
      "metadata": {
        "id": "00IeyaPFWddb"
      },
      "execution_count": null,
      "outputs": []
    },
    {
      "cell_type": "code",
      "source": [
        "#Mean-Normalize the Data\n",
        "\"\"\"\n",
        "    As you can see data has skew. one way to remove the skew is by adding log\n",
        "    function to data.\n",
        "    Many statistical models assume that the data is normally distributed.\n",
        "    We need to transform our data so that its distribution is close to normal distribution.\n",
        "    First we will remove some of the skew from the distribution by using the log transformation.\n",
        "    Then we will \"standardize\" the distribution so that it has a mean of zero and standard deviation of 1.\n",
        "    Equation: st_data = (x-mean)/std\n",
        "\"\"\"\n",
        "\n",
        "def make_standard_normal(df_train, df_test):\n",
        "\n",
        "#Removing skew\n",
        "  df_train_unskewed = np.log(df_train)\n",
        "  df_test_unskewed = np.log(df_test)\n",
        "\n",
        "#Calculating mean and std for train data\n",
        "  mean = df_train_unskewed.mean(axis = 0)\n",
        "  std  = df_train_unskewed.std(axis = 0)\n",
        "\n",
        "#Standardizing  data\n",
        "  standardized_train_data = (df_train_unskewed - mean)/std\n",
        "  standardized_test_data = (df_test_unskewed - mean)/std\n",
        "\n",
        "  return standardized_train_data, standardized_test_data"
      ],
      "metadata": {
        "id": "Y8uf2BJzYZuT"
      },
      "execution_count": 31,
      "outputs": []
    },
    {
      "cell_type": "code",
      "source": [
        "#Standardize data\n",
        "X_train, X_test = make_standard_normal(X_train_raw, X_test_raw)"
      ],
      "metadata": {
        "id": "dkZ9bBgKC_Ji"
      },
      "execution_count": 32,
      "outputs": []
    },
    {
      "cell_type": "code",
      "source": [
        "for col in X_train.columns:\n",
        "  X_train.loc[:, col].hist()\n",
        "  plt.title(col)\n",
        "  plt.show()"
      ],
      "metadata": {
        "id": "p67R8MupZNcb"
      },
      "execution_count": null,
      "outputs": []
    },
    {
      "cell_type": "code",
      "source": [
        "#Make a logistic regression model\n",
        "def lr_model(X_train, y_train):\n",
        "  from sklearn.linear_model import LogisticRegression\n",
        "  model = LogisticRegression()\n",
        "  model.fit(X_train, y_train, sample_weight = None)\n",
        "  return model"
      ],
      "metadata": {
        "id": "_II737TrD-ik"
      },
      "execution_count": 33,
      "outputs": []
    },
    {
      "cell_type": "code",
      "source": [
        "model_x =lr_model(X_train, y_train)"
      ],
      "metadata": {
        "colab": {
          "base_uri": "https://localhost:8080/"
        },
        "id": "j9LSV0NdQqnF",
        "outputId": "9653f34c-fde2-450b-f0b3-0d2347f3f346"
      },
      "execution_count": 34,
      "outputs": [
        {
          "output_type": "stream",
          "name": "stderr",
          "text": [
            "/usr/local/lib/python3.8/dist-packages/sklearn/utils/validation.py:993: DataConversionWarning: A column-vector y was passed when a 1d array was expected. Please change the shape of y to (n_samples, ), for example using ravel().\n",
            "  y = column_or_1d(y, warn=True)\n"
          ]
        }
      ]
    },
    {
      "cell_type": "code",
      "source": [
        "#Evaluate the Model Using the C-index\n",
        "\"\"\"\n",
        "  The c-index measures the discriminatory power of a risk score.\n",
        "  c-index = (concordant + 0.5*ties)/permissible\n",
        "\"\"\"\n",
        "def c_index(y_true, score):\n",
        "\n",
        "  n = len(y_true)\n",
        "  assert len(score) == n\n",
        "\n",
        "  concordant  = 0\n",
        "  ties        = 0\n",
        "  permissible = 0\n",
        "\n",
        "  for i in range(n):\n",
        "    for j in range(i+1, n):\n",
        "      if y_true[i] != y_true[j]:\n",
        "        permissible +=1\n",
        "\n",
        "        if score[i] == score[j]:\n",
        "          ties += 1\n",
        "          continue\n",
        "\n",
        "        if y_true[i]==0 and y_true[j]==1:\n",
        "          if score[i] < score[j]:\n",
        "            concordant += 1\n",
        "\n",
        "        if y_true[i]==1 and y_true[j]==0:\n",
        "          if score[i] > score[j]:\n",
        "            concordant += 1\n",
        "\n",
        "  c_index = (concordant + (0.5 * ties)) / permissible\n",
        "  return c_index"
      ],
      "metadata": {
        "id": "7ScI2gDSUKC4"
      },
      "execution_count": 35,
      "outputs": []
    },
    {
      "cell_type": "code",
      "source": [
        "#Evaluate model on test set\n",
        "\"\"\"\n",
        "  predict_proba method will return the result from the model before\n",
        "  it is converted to a binary 0 or 1.\n",
        "  For each input case, it returns an array of two values which represent\n",
        "  the probabilities for both the negative case and positive case.\n",
        "\"\"\"\n",
        "\n",
        "score = model_x.predict_proba(X_test)[:,1]\n",
        "c_index_x_test = c_index(y_test.values, score)\n",
        "print(f\"c-index is {c_index_x_test:.4f}\")"
      ],
      "metadata": {
        "colab": {
          "base_uri": "https://localhost:8080/"
        },
        "id": "3sfFjaDWxQI4",
        "outputId": "4b1b7fe2-5181-4cce-afee-9394d694acf0"
      },
      "execution_count": 36,
      "outputs": [
        {
          "output_type": "stream",
          "name": "stdout",
          "text": [
            "c-index is 0.8182\n"
          ]
        }
      ]
    },
    {
      "cell_type": "code",
      "source": [
        "#Get coefficients of the model and see which of them has a big effect\n",
        "coefs = pd.DataFrame(data = model_x.coef_ , columns= X_train.columns)\n",
        "coefs.T.plot.bar(legend=None)"
      ],
      "metadata": {
        "colab": {
          "base_uri": "https://localhost:8080/",
          "height": 333
        },
        "id": "2xWQSQEQzVHQ",
        "outputId": "ce49c343-568e-44e2-fdb2-5fecc6c1384a"
      },
      "execution_count": 38,
      "outputs": [
        {
          "output_type": "execute_result",
          "data": {
            "text/plain": [
              "<matplotlib.axes._subplots.AxesSubplot at 0x7fbe48fdfa60>"
            ]
          },
          "metadata": {},
          "execution_count": 38
        },
        {
          "output_type": "display_data",
          "data": {
            "text/plain": [
              "<Figure size 432x288 with 1 Axes>"
            ],
            "image/png": "[encoded data removed]"
          },
          "metadata": {
            "needs_background": "light"
          }
        }
      ]
    },
    {
      "cell_type": "code",
      "source": [
        "#Improving results \n",
        "\"\"\"\n",
        "  by adding interaction we can improve results\n",
        "\"\"\"\n",
        "def add_interactions(X):\n",
        "\n",
        "  features = X.columns\n",
        "  m = len(features)\n",
        "  x_int = X.copy(deep=True)\n",
        "\n",
        "  for i in range(m):\n",
        "\n",
        "    feature_i_name = features[i]\n",
        "    feature_i_value = X.loc[:, feature_i_name]\n",
        "\n",
        "    for j in range(i+1, m):\n",
        "\n",
        "      feature_j_name = features[j]\n",
        "      feature_j_value = X.loc[:, feature_j_name]\n",
        "\n",
        "      feature_i_j_name = f'{feature_i_name}_X_{feature_j_name}'\n",
        "      x_int[feature_i_j_name] = feature_i_value * feature_j_value\n",
        "\n",
        "  return x_int"
      ],
      "metadata": {
        "id": "MoVOde9f0CJf"
      },
      "execution_count": 43,
      "outputs": []
    },
    {
      "cell_type": "code",
      "source": [
        "#interaction\n",
        "\n",
        "X_train_int = add_interactions(X_train)\n",
        "X_test_int  = add_interactions(X_test)"
      ],
      "metadata": {
        "id": "s1B7UGrf8EvC"
      },
      "execution_count": 44,
      "outputs": []
    },
    {
      "cell_type": "code",
      "source": [
        "X_train_int.head()"
      ],
      "metadata": {
        "colab": {
          "base_uri": "https://localhost:8080/",
          "height": 270
        },
        "id": "rz0bFA4v9jE2",
        "outputId": "5ccfb032-086b-4cfd-deaf-2e4f28331af0"
      },
      "execution_count": 48,
      "outputs": [
        {
          "output_type": "execute_result",
          "data": {
            "text/plain": [
              "           Age  Systolic_BP  Diastolic_BP  Cholesterol  Age_X_Systolic_BP  \\\n",
              "1824 -0.912451    -0.068019     -0.711482     0.574241           0.062064   \n",
              "253  -0.302039     1.719538      1.003758    -0.340915          -0.519367   \n",
              "1114  2.576274     0.155962     -0.018015    -1.051717           0.401800   \n",
              "3220  1.163621    -2.033931     -0.748005    -2.065059          -2.366725   \n",
              "2108 -0.446238    -0.054554      1.565538     0.073092           0.024344   \n",
              "\n",
              "      Age_X_Diastolic_BP  Age_X_Cholesterol  Systolic_BP_X_Diastolic_BP  \\\n",
              "1824            0.649192          -0.523967                    0.048394   \n",
              "253            -0.303174           0.102970                    1.726001   \n",
              "1114           -0.046412          -2.709511                   -0.002810   \n",
              "3220           -0.870395          -2.402946                    1.521391   \n",
              "2108           -0.698603          -0.032617                   -0.085407   \n",
              "\n",
              "      Systolic_BP_X_Cholesterol  Diastolic_BP_X_Cholesterol  \n",
              "1824                  -0.039059                   -0.408562  \n",
              "253                   -0.586217                   -0.342197  \n",
              "1114                  -0.164027                    0.018947  \n",
              "3220                   4.200186                    1.544675  \n",
              "2108                  -0.003987                    0.114429  "
            ],
            "text/html": [
              "\n",
              "  <div id=\"df-a436b742-1b73-4865-bf96-9fdb8d9cd838\">\n",
              "    <div class=\"colab-df-container\">\n",
              "      <div>\n",
              "<style scoped>\n",
              "    .dataframe tbody tr th:only-of-type {\n",
              "        vertical-align: middle;\n",
              "    }\n",
              "\n",
              "    .dataframe tbody tr th {\n",
              "        vertical-align: top;\n",
              "    }\n",
              "\n",
              "    .dataframe thead th {\n",
              "        text-align: right;\n",
              "    }\n",
              "</style>\n",
              "<table border=\"1\" class=\"dataframe\">\n",
              "  <thead>\n",
              "    <tr style=\"text-align: right;\">\n",
              "      <th></th>\n",
              "      <th>Age</th>\n",
              "      <th>Systolic_BP</th>\n",
              "      <th>Diastolic_BP</th>\n",
              "      <th>Cholesterol</th>\n",
              "      <th>Age_X_Systolic_BP</th>\n",
              "      <th>Age_X_Diastolic_BP</th>\n",
              "      <th>Age_X_Cholesterol</th>\n",
              "      <th>Systolic_BP_X_Diastolic_BP</th>\n",
              "      <th>Systolic_BP_X_Cholesterol</th>\n",
              "      <th>Diastolic_BP_X_Cholesterol</th>\n",
              "    </tr>\n",
              "  </thead>\n",
              "  <tbody>\n",
              "    <tr>\n",
              "      <th>1824</th>\n",
              "      <td>-0.912451</td>\n",
              "      <td>-0.068019</td>\n",
              "      <td>-0.711482</td>\n",
              "      <td>0.574241</td>\n",
              "      <td>0.062064</td>\n",
              "      <td>0.649192</td>\n",
              "      <td>-0.523967</td>\n",
              "      <td>0.048394</td>\n",
              "      <td>-0.039059</td>\n",
              "      <td>-0.408562</td>\n",
              "    </tr>\n",
              "    <tr>\n",
              "      <th>253</th>\n",
              "      <td>-0.302039</td>\n",
              "      <td>1.719538</td>\n",
              "      <td>1.003758</td>\n",
              "      <td>-0.340915</td>\n",
              "      <td>-0.519367</td>\n",
              "      <td>-0.303174</td>\n",
              "      <td>0.102970</td>\n",
              "      <td>1.726001</td>\n",
              "      <td>-0.586217</td>\n",
              "      <td>-0.342197</td>\n",
              "    </tr>\n",
              "    <tr>\n",
              "      <th>1114</th>\n",
              "      <td>2.576274</td>\n",
              "      <td>0.155962</td>\n",
              "      <td>-0.018015</td>\n",
              "      <td>-1.051717</td>\n",
              "      <td>0.401800</td>\n",
              "      <td>-0.046412</td>\n",
              "      <td>-2.709511</td>\n",
              "      <td>-0.002810</td>\n",
              "      <td>-0.164027</td>\n",
              "      <td>0.018947</td>\n",
              "    </tr>\n",
              "    <tr>\n",
              "      <th>3220</th>\n",
              "      <td>1.163621</td>\n",
              "      <td>-2.033931</td>\n",
              "      <td>-0.748005</td>\n",
              "      <td>-2.065059</td>\n",
              "      <td>-2.366725</td>\n",
              "      <td>-0.870395</td>\n",
              "      <td>-2.402946</td>\n",
              "      <td>1.521391</td>\n",
              "      <td>4.200186</td>\n",
              "      <td>1.544675</td>\n",
              "    </tr>\n",
              "    <tr>\n",
              "      <th>2108</th>\n",
              "      <td>-0.446238</td>\n",
              "      <td>-0.054554</td>\n",
              "      <td>1.565538</td>\n",
              "      <td>0.073092</td>\n",
              "      <td>0.024344</td>\n",
              "      <td>-0.698603</td>\n",
              "      <td>-0.032617</td>\n",
              "      <td>-0.085407</td>\n",
              "      <td>-0.003987</td>\n",
              "      <td>0.114429</td>\n",
              "    </tr>\n",
              "  </tbody>\n",
              "</table>\n",
              "</div>\n",
              "      <button class=\"colab-df-convert\" onclick=\"convertToInteractive('df-a436b742-1b73-4865-bf96-9fdb8d9cd838')\"\n",
              "              title=\"Convert this dataframe to an interactive table.\"\n",
              "              style=\"display:none;\">\n",
              "        \n",
              "  <svg xmlns=\"http://www.w3.org/2000/svg\" height=\"24px\"viewBox=\"0 0 24 24\"\n",
              "       width=\"24px\">\n",
              "    <path d=\"M0 0h24v24H0V0z\" fill=\"none\"/>\n",
              "    <path d=\"M18.56 5.44l.94 2.06.94-2.06 2.06-.94-2.06-.94-.94-2.06-.94 2.06-2.06.94zm-11 1L8.5 8.5l.94-2.06 2.06-.94-2.06-.94L8.5 2.5l-.94 2.06-2.06.94zm10 10l.94 2.06.94-2.06 2.06-.94-2.06-.94-.94-2.06-.94 2.06-2.06.94z\"/><path d=\"M17.41 7.96l-1.37-1.37c-.4-.4-.92-.59-1.43-.59-.52 0-1.04.2-1.43.59L10.3 9.45l-7.72 7.72c-.78.78-.78 2.05 0 2.83L4 21.41c.39.39.9.59 1.41.59.51 0 1.02-.2 1.41-.59l7.78-7.78 2.81-2.81c.8-.78.8-2.07 0-2.86zM5.41 20L4 18.59l7.72-7.72 1.47 1.35L5.41 20z\"/>\n",
              "  </svg>\n",
              "      </button>\n",
              "      \n",
              "  <style>\n",
              "    .colab-df-container {\n",
              "      display:flex;\n",
              "      flex-wrap:wrap;\n",
              "      gap: 12px;\n",
              "    }\n",
              "\n",
              "    .colab-df-convert {\n",
              "      background-color: #E8F0FE;\n",
              "      border: none;\n",
              "      border-radius: 50%;\n",
              "      cursor: pointer;\n",
              "      display: none;\n",
              "      fill: #1967D2;\n",
              "      height: 32px;\n",
              "      padding: 0 0 0 0;\n",
              "      width: 32px;\n",
              "    }\n",
              "\n",
              "    .colab-df-convert:hover {\n",
              "      background-color: #E2EBFA;\n",
              "      box-shadow: 0px 1px 2px rgba(60, 64, 67, 0.3), 0px 1px 3px 1px rgba(60, 64, 67, 0.15);\n",
              "      fill: #174EA6;\n",
              "    }\n",
              "\n",
              "    [theme=dark] .colab-df-convert {\n",
              "      background-color: #3B4455;\n",
              "      fill: #D2E3FC;\n",
              "    }\n",
              "\n",
              "    [theme=dark] .colab-df-convert:hover {\n",
              "      background-color: #434B5C;\n",
              "      box-shadow: 0px 1px 3px 1px rgba(0, 0, 0, 0.15);\n",
              "      filter: drop-shadow(0px 1px 2px rgba(0, 0, 0, 0.3));\n",
              "      fill: #FFFFFF;\n",
              "    }\n",
              "  </style>\n",
              "\n",
              "      <script>\n",
              "        const buttonEl =\n",
              "          document.querySelector('#df-a436b742-1b73-4865-bf96-9fdb8d9cd838 button.colab-df-convert');\n",
              "        buttonEl.style.display =\n",
              "          google.colab.kernel.accessAllowed ? 'block' : 'none';\n",
              "\n",
              "        async function convertToInteractive(key) {\n",
              "          const element = document.querySelector('#df-a436b742-1b73-4865-bf96-9fdb8d9cd838');\n",
              "          const dataTable =\n",
              "            await google.colab.kernel.invokeFunction('convertToInteractive',\n",
              "                                                     [key], {});\n",
              "          if (!dataTable) return;\n",
              "\n",
              "          const docLinkHtml = 'Like what you see? Visit the ' +\n",
              "            '<a target=\"_blank\" href=https://colab.research.google.com/notebooks/data_table.ipynb>data table notebook</a>'\n",
              "            + ' to learn more about interactive tables.';\n",
              "          element.innerHTML = '';\n",
              "          dataTable['output_type'] = 'display_data';\n",
              "          await google.colab.output.renderOutput(dataTable, element);\n",
              "          const docLink = document.createElement('div');\n",
              "          docLink.innerHTML = docLinkHtml;\n",
              "          element.appendChild(docLink);\n",
              "        }\n",
              "      </script>\n",
              "    </div>\n",
              "  </div>\n",
              "  "
            ]
          },
          "metadata": {},
          "execution_count": 48
        }
      ]
    },
    {
      "cell_type": "code",
      "source": [
        "#train and test interactions\n",
        "\n",
        "model_int = lr_model(X_train_int, y_train)\n",
        "score = model_int.predict_proba(X_test_int)[:, 1]\n",
        "int_c_index = c_index(y_test.values, score)\n",
        "print(f\"interactions c-index is {int_c_index:.4f}\")"
      ],
      "metadata": {
        "colab": {
          "base_uri": "https://localhost:8080/"
        },
        "id": "qJ-dOaWn8kDD",
        "outputId": "b51e6c6d-d851-4cba-80c8-820e640d6e38"
      },
      "execution_count": 50,
      "outputs": [
        {
          "output_type": "stream",
          "name": "stderr",
          "text": [
            "/usr/local/lib/python3.8/dist-packages/sklearn/utils/validation.py:993: DataConversionWarning: A column-vector y was passed when a 1d array was expected. Please change the shape of y to (n_samples, ), for example using ravel().\n",
            "  y = column_or_1d(y, warn=True)\n"
          ]
        },
        {
          "output_type": "stream",
          "name": "stdout",
          "text": [
            "interactions c-index is 0.8281\n"
          ]
        }
      ]
    },
    {
      "cell_type": "code",
      "source": [
        "#get coefficients of the model\n",
        "int_coef = pd.DataFrame(data = model_int.coef_ , columns = X_train_int.columns)\n",
        "int_coef.T.plot.bar()"
      ],
      "metadata": {
        "colab": {
          "base_uri": "https://localhost:8080/",
          "height": 407
        },
        "id": "P2OsVDKr-QMa",
        "outputId": "c1602ba8-ec56-4939-d083-09fc13b73e74"
      },
      "execution_count": 52,
      "outputs": [
        {
          "output_type": "execute_result",
          "data": {
            "text/plain": [
              "<matplotlib.axes._subplots.AxesSubplot at 0x7fbe48a743a0>"
            ]
          },
          "metadata": {},
          "execution_count": 52
        },
        {
          "output_type": "display_data",
          "data": {
            "text/plain": [
              "<Figure size 432x288 with 1 Axes>"
            ],
            "image/png": "[encoded data removed]"
          },
          "metadata": {
            "needs_background": "light"
          }
        }
      ]
    }
  ]
}
